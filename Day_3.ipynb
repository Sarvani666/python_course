{
 "cells": [
  {
   "cell_type": "code",
   "execution_count": 5,
   "id": "2d4d5a71",
   "metadata": {},
   "outputs": [
    {
     "name": "stdout",
     "output_type": "stream",
     "text": [
      "My name is sarvani reddy\n"
     ]
    }
   ],
   "source": [
    "first_name=\"sarvani\"\n",
    "last_name=\"reddy\"\n",
    "print(f\"My name is {first_name} {last_name}\")"
   ]
  },
  {
   "cell_type": "code",
   "execution_count": 6,
   "id": "3aca0935",
   "metadata": {},
   "outputs": [
    {
     "name": "stdout",
     "output_type": "stream",
     "text": [
      "My name is Sarvani Reddy\n"
     ]
    }
   ],
   "source": [
    "print(f\"My name is {first_name.title()} {last_name.title()}\")"
   ]
  },
  {
   "cell_type": "code",
   "execution_count": 10,
   "id": "e58f85f7",
   "metadata": {},
   "outputs": [
    {
     "name": "stdout",
     "output_type": "stream",
     "text": [
      "My name is sarvani reddy\n"
     ]
    }
   ],
   "source": [
    "full_name=f\"{first_name} {last_name}\"\n",
    "print(f\"My name is {full_name}\")"
   ]
  },
  {
   "cell_type": "code",
   "execution_count": 11,
   "id": "ba8aaf67",
   "metadata": {},
   "outputs": [
    {
     "name": "stdout",
     "output_type": "stream",
     "text": [
      "My name is Sarvani Reddy\n"
     ]
    }
   ],
   "source": [
    "print(f\"My name is {full_name.title()}\")"
   ]
  },
  {
   "cell_type": "code",
   "execution_count": 12,
   "id": "06fd626b",
   "metadata": {},
   "outputs": [
    {
     "name": "stdout",
     "output_type": "stream",
     "text": [
      "Data types in Python are:\n",
      "\t1.String--->str\n",
      "\t2.Integer--->int\n",
      "\t3.Decimals--->float\n",
      "\t4.Lists--->list\n",
      "\t5.Tuples--->tuple\n",
      "\t6.Dictionaries--->dict\n"
     ]
    }
   ],
   "source": [
    "print(f\"Data types in Python are:\\n\\t1.String--->str\\n\\t2.Integer--->int\\n\\t3.Decimals--->float\\n\\t4.Lists--->list\\n\\t5.Tuples--->tuple\\n\\t6.Dictionaries--->dict\")"
   ]
  },
  {
   "cell_type": "code",
   "execution_count": 30,
   "id": "352cc01b",
   "metadata": {},
   "outputs": [
    {
     "name": "stdout",
     "output_type": "stream",
     "text": [
      "   Programming\n",
      "Programming   \n",
      "   Programming   \n"
     ]
    }
   ],
   "source": [
    "a=\"   Programming\"\n",
    "b=\"Programming   \"\n",
    "c=\"   Programming   \"\n",
    "print(f\"{a}\\n{b}\\n{c}\")"
   ]
  },
  {
   "cell_type": "code",
   "execution_count": 32,
   "id": "0863b3c1",
   "metadata": {},
   "outputs": [
    {
     "name": "stdout",
     "output_type": "stream",
     "text": [
      "Programming\n",
      "Programming\n",
      "Programming\n"
     ]
    }
   ],
   "source": [
    "print(f\"{a.lstrip()}\\n{b.rstrip()}\\n{c.strip()}\")"
   ]
  }
 ],
 "metadata": {
  "kernelspec": {
   "display_name": "Python 3 (ipykernel)",
   "language": "python",
   "name": "python3"
  },
  "language_info": {
   "codemirror_mode": {
    "name": "ipython",
    "version": 3
   },
   "file_extension": ".py",
   "mimetype": "text/x-python",
   "name": "python",
   "nbconvert_exporter": "python",
   "pygments_lexer": "ipython3",
   "version": "3.10.9"
  }
 },
 "nbformat": 4,
 "nbformat_minor": 5
}
